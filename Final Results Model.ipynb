{
 "cells": [
  {
   "cell_type": "code",
   "execution_count": 1,
   "id": "596c3bf6",
   "metadata": {},
   "outputs": [],
   "source": [
    "import pandas\n",
    "import numpy \n",
    "import seaborn\n",
    "import matplotlib.pyplot as plot \n",
    "\n",
    "hM = pandas.read_csv(r'C:\\Users\\OhHen\\Dropbox\\PC\\Desktop\\Final Project\\hospital_mortality.csv')"
   ]
  },
  {
   "cell_type": "code",
   "execution_count": 2,
   "id": "9f43b41c",
   "metadata": {},
   "outputs": [
    {
     "data": {
      "text/html": [
       "<div>\n",
       "<style scoped>\n",
       "    .dataframe tbody tr th:only-of-type {\n",
       "        vertical-align: middle;\n",
       "    }\n",
       "\n",
       "    .dataframe tbody tr th {\n",
       "        vertical-align: top;\n",
       "    }\n",
       "\n",
       "    .dataframe thead th {\n",
       "        text-align: right;\n",
       "    }\n",
       "</style>\n",
       "<table border=\"1\" class=\"dataframe\">\n",
       "  <thead>\n",
       "    <tr style=\"text-align: right;\">\n",
       "      <th></th>\n",
       "      <th>group</th>\n",
       "      <th>ID</th>\n",
       "      <th>outcome</th>\n",
       "      <th>age</th>\n",
       "      <th>gendera</th>\n",
       "      <th>BMI</th>\n",
       "      <th>hypertensive</th>\n",
       "      <th>atrialfibrillation</th>\n",
       "      <th>CHD_with_no_MI</th>\n",
       "      <th>diabetes</th>\n",
       "      <th>...</th>\n",
       "      <th>Blood_sodium</th>\n",
       "      <th>Blood_calcium</th>\n",
       "      <th>Chloride</th>\n",
       "      <th>Anion_gap</th>\n",
       "      <th>Magnesium_ion</th>\n",
       "      <th>PH</th>\n",
       "      <th>Bicarbonate</th>\n",
       "      <th>Lactic_acid</th>\n",
       "      <th>PCO2</th>\n",
       "      <th>EF</th>\n",
       "    </tr>\n",
       "  </thead>\n",
       "  <tbody>\n",
       "    <tr>\n",
       "      <th>0</th>\n",
       "      <td>1</td>\n",
       "      <td>125047</td>\n",
       "      <td>0.0</td>\n",
       "      <td>72</td>\n",
       "      <td>1</td>\n",
       "      <td>37.588179</td>\n",
       "      <td>0</td>\n",
       "      <td>0</td>\n",
       "      <td>0</td>\n",
       "      <td>1</td>\n",
       "      <td>...</td>\n",
       "      <td>138.750000</td>\n",
       "      <td>7.463636</td>\n",
       "      <td>109.166667</td>\n",
       "      <td>13.166667</td>\n",
       "      <td>2.618182</td>\n",
       "      <td>7.230</td>\n",
       "      <td>21.166667</td>\n",
       "      <td>0.5</td>\n",
       "      <td>40.0</td>\n",
       "      <td>55</td>\n",
       "    </tr>\n",
       "    <tr>\n",
       "      <th>1</th>\n",
       "      <td>1</td>\n",
       "      <td>139812</td>\n",
       "      <td>0.0</td>\n",
       "      <td>75</td>\n",
       "      <td>2</td>\n",
       "      <td>NaN</td>\n",
       "      <td>0</td>\n",
       "      <td>0</td>\n",
       "      <td>0</td>\n",
       "      <td>0</td>\n",
       "      <td>...</td>\n",
       "      <td>138.888889</td>\n",
       "      <td>8.162500</td>\n",
       "      <td>98.444444</td>\n",
       "      <td>11.444444</td>\n",
       "      <td>1.887500</td>\n",
       "      <td>7.225</td>\n",
       "      <td>33.444444</td>\n",
       "      <td>0.5</td>\n",
       "      <td>78.0</td>\n",
       "      <td>55</td>\n",
       "    </tr>\n",
       "    <tr>\n",
       "      <th>2</th>\n",
       "      <td>1</td>\n",
       "      <td>109787</td>\n",
       "      <td>0.0</td>\n",
       "      <td>83</td>\n",
       "      <td>2</td>\n",
       "      <td>26.572634</td>\n",
       "      <td>0</td>\n",
       "      <td>0</td>\n",
       "      <td>0</td>\n",
       "      <td>0</td>\n",
       "      <td>...</td>\n",
       "      <td>140.714286</td>\n",
       "      <td>8.266667</td>\n",
       "      <td>105.857143</td>\n",
       "      <td>10.000000</td>\n",
       "      <td>2.157143</td>\n",
       "      <td>7.268</td>\n",
       "      <td>30.571429</td>\n",
       "      <td>0.5</td>\n",
       "      <td>71.5</td>\n",
       "      <td>35</td>\n",
       "    </tr>\n",
       "    <tr>\n",
       "      <th>3</th>\n",
       "      <td>1</td>\n",
       "      <td>130587</td>\n",
       "      <td>0.0</td>\n",
       "      <td>43</td>\n",
       "      <td>2</td>\n",
       "      <td>83.264629</td>\n",
       "      <td>0</td>\n",
       "      <td>0</td>\n",
       "      <td>0</td>\n",
       "      <td>0</td>\n",
       "      <td>...</td>\n",
       "      <td>138.500000</td>\n",
       "      <td>9.476923</td>\n",
       "      <td>92.071429</td>\n",
       "      <td>12.357143</td>\n",
       "      <td>1.942857</td>\n",
       "      <td>7.370</td>\n",
       "      <td>38.571429</td>\n",
       "      <td>0.6</td>\n",
       "      <td>75.0</td>\n",
       "      <td>55</td>\n",
       "    </tr>\n",
       "    <tr>\n",
       "      <th>4</th>\n",
       "      <td>1</td>\n",
       "      <td>138290</td>\n",
       "      <td>0.0</td>\n",
       "      <td>75</td>\n",
       "      <td>2</td>\n",
       "      <td>31.824842</td>\n",
       "      <td>1</td>\n",
       "      <td>0</td>\n",
       "      <td>0</td>\n",
       "      <td>0</td>\n",
       "      <td>...</td>\n",
       "      <td>136.666667</td>\n",
       "      <td>8.733333</td>\n",
       "      <td>104.500000</td>\n",
       "      <td>15.166667</td>\n",
       "      <td>1.650000</td>\n",
       "      <td>7.250</td>\n",
       "      <td>22.000000</td>\n",
       "      <td>0.6</td>\n",
       "      <td>50.0</td>\n",
       "      <td>55</td>\n",
       "    </tr>\n",
       "    <tr>\n",
       "      <th>...</th>\n",
       "      <td>...</td>\n",
       "      <td>...</td>\n",
       "      <td>...</td>\n",
       "      <td>...</td>\n",
       "      <td>...</td>\n",
       "      <td>...</td>\n",
       "      <td>...</td>\n",
       "      <td>...</td>\n",
       "      <td>...</td>\n",
       "      <td>...</td>\n",
       "      <td>...</td>\n",
       "      <td>...</td>\n",
       "      <td>...</td>\n",
       "      <td>...</td>\n",
       "      <td>...</td>\n",
       "      <td>...</td>\n",
       "      <td>...</td>\n",
       "      <td>...</td>\n",
       "      <td>...</td>\n",
       "      <td>...</td>\n",
       "      <td>...</td>\n",
       "    </tr>\n",
       "    <tr>\n",
       "      <th>1172</th>\n",
       "      <td>2</td>\n",
       "      <td>171130</td>\n",
       "      <td>0.0</td>\n",
       "      <td>62</td>\n",
       "      <td>1</td>\n",
       "      <td>25.516870</td>\n",
       "      <td>1</td>\n",
       "      <td>1</td>\n",
       "      <td>0</td>\n",
       "      <td>1</td>\n",
       "      <td>...</td>\n",
       "      <td>136.714286</td>\n",
       "      <td>10.271429</td>\n",
       "      <td>94.428571</td>\n",
       "      <td>20.142857</td>\n",
       "      <td>2.714286</td>\n",
       "      <td>NaN</td>\n",
       "      <td>27.714286</td>\n",
       "      <td>NaN</td>\n",
       "      <td>NaN</td>\n",
       "      <td>40</td>\n",
       "    </tr>\n",
       "    <tr>\n",
       "      <th>1173</th>\n",
       "      <td>2</td>\n",
       "      <td>101659</td>\n",
       "      <td>0.0</td>\n",
       "      <td>78</td>\n",
       "      <td>1</td>\n",
       "      <td>25.822710</td>\n",
       "      <td>0</td>\n",
       "      <td>1</td>\n",
       "      <td>0</td>\n",
       "      <td>1</td>\n",
       "      <td>...</td>\n",
       "      <td>135.680000</td>\n",
       "      <td>10.523529</td>\n",
       "      <td>101.720000</td>\n",
       "      <td>18.160000</td>\n",
       "      <td>2.012500</td>\n",
       "      <td>NaN</td>\n",
       "      <td>20.480000</td>\n",
       "      <td>NaN</td>\n",
       "      <td>NaN</td>\n",
       "      <td>30</td>\n",
       "    </tr>\n",
       "    <tr>\n",
       "      <th>1174</th>\n",
       "      <td>2</td>\n",
       "      <td>162069</td>\n",
       "      <td>0.0</td>\n",
       "      <td>85</td>\n",
       "      <td>2</td>\n",
       "      <td>23.891779</td>\n",
       "      <td>1</td>\n",
       "      <td>1</td>\n",
       "      <td>0</td>\n",
       "      <td>1</td>\n",
       "      <td>...</td>\n",
       "      <td>136.000000</td>\n",
       "      <td>8.466667</td>\n",
       "      <td>97.285714</td>\n",
       "      <td>14.000000</td>\n",
       "      <td>2.028571</td>\n",
       "      <td>NaN</td>\n",
       "      <td>28.857143</td>\n",
       "      <td>NaN</td>\n",
       "      <td>NaN</td>\n",
       "      <td>55</td>\n",
       "    </tr>\n",
       "    <tr>\n",
       "      <th>1175</th>\n",
       "      <td>2</td>\n",
       "      <td>120967</td>\n",
       "      <td>0.0</td>\n",
       "      <td>79</td>\n",
       "      <td>2</td>\n",
       "      <td>35.288554</td>\n",
       "      <td>0</td>\n",
       "      <td>0</td>\n",
       "      <td>1</td>\n",
       "      <td>1</td>\n",
       "      <td>...</td>\n",
       "      <td>140.000000</td>\n",
       "      <td>8.183333</td>\n",
       "      <td>104.000000</td>\n",
       "      <td>15.750000</td>\n",
       "      <td>2.090000</td>\n",
       "      <td>NaN</td>\n",
       "      <td>24.375000</td>\n",
       "      <td>NaN</td>\n",
       "      <td>NaN</td>\n",
       "      <td>25</td>\n",
       "    </tr>\n",
       "    <tr>\n",
       "      <th>1176</th>\n",
       "      <td>2</td>\n",
       "      <td>107636</td>\n",
       "      <td>0.0</td>\n",
       "      <td>47</td>\n",
       "      <td>1</td>\n",
       "      <td>23.121384</td>\n",
       "      <td>1</td>\n",
       "      <td>0</td>\n",
       "      <td>0</td>\n",
       "      <td>1</td>\n",
       "      <td>...</td>\n",
       "      <td>135.285714</td>\n",
       "      <td>9.085714</td>\n",
       "      <td>93.857143</td>\n",
       "      <td>20.285714</td>\n",
       "      <td>2.566667</td>\n",
       "      <td>NaN</td>\n",
       "      <td>26.571429</td>\n",
       "      <td>NaN</td>\n",
       "      <td>NaN</td>\n",
       "      <td>55</td>\n",
       "    </tr>\n",
       "  </tbody>\n",
       "</table>\n",
       "<p>1177 rows × 51 columns</p>\n",
       "</div>"
      ],
      "text/plain": [
       "      group      ID  outcome  age  gendera        BMI  hypertensive  \\\n",
       "0         1  125047      0.0   72        1  37.588179             0   \n",
       "1         1  139812      0.0   75        2        NaN             0   \n",
       "2         1  109787      0.0   83        2  26.572634             0   \n",
       "3         1  130587      0.0   43        2  83.264629             0   \n",
       "4         1  138290      0.0   75        2  31.824842             1   \n",
       "...     ...     ...      ...  ...      ...        ...           ...   \n",
       "1172      2  171130      0.0   62        1  25.516870             1   \n",
       "1173      2  101659      0.0   78        1  25.822710             0   \n",
       "1174      2  162069      0.0   85        2  23.891779             1   \n",
       "1175      2  120967      0.0   79        2  35.288554             0   \n",
       "1176      2  107636      0.0   47        1  23.121384             1   \n",
       "\n",
       "      atrialfibrillation  CHD_with_no_MI  diabetes  ...  Blood_sodium  \\\n",
       "0                      0               0         1  ...    138.750000   \n",
       "1                      0               0         0  ...    138.888889   \n",
       "2                      0               0         0  ...    140.714286   \n",
       "3                      0               0         0  ...    138.500000   \n",
       "4                      0               0         0  ...    136.666667   \n",
       "...                  ...             ...       ...  ...           ...   \n",
       "1172                   1               0         1  ...    136.714286   \n",
       "1173                   1               0         1  ...    135.680000   \n",
       "1174                   1               0         1  ...    136.000000   \n",
       "1175                   0               1         1  ...    140.000000   \n",
       "1176                   0               0         1  ...    135.285714   \n",
       "\n",
       "      Blood_calcium    Chloride  Anion_gap  Magnesium_ion     PH  Bicarbonate  \\\n",
       "0          7.463636  109.166667  13.166667       2.618182  7.230    21.166667   \n",
       "1          8.162500   98.444444  11.444444       1.887500  7.225    33.444444   \n",
       "2          8.266667  105.857143  10.000000       2.157143  7.268    30.571429   \n",
       "3          9.476923   92.071429  12.357143       1.942857  7.370    38.571429   \n",
       "4          8.733333  104.500000  15.166667       1.650000  7.250    22.000000   \n",
       "...             ...         ...        ...            ...    ...          ...   \n",
       "1172      10.271429   94.428571  20.142857       2.714286    NaN    27.714286   \n",
       "1173      10.523529  101.720000  18.160000       2.012500    NaN    20.480000   \n",
       "1174       8.466667   97.285714  14.000000       2.028571    NaN    28.857143   \n",
       "1175       8.183333  104.000000  15.750000       2.090000    NaN    24.375000   \n",
       "1176       9.085714   93.857143  20.285714       2.566667    NaN    26.571429   \n",
       "\n",
       "      Lactic_acid  PCO2  EF  \n",
       "0             0.5  40.0  55  \n",
       "1             0.5  78.0  55  \n",
       "2             0.5  71.5  35  \n",
       "3             0.6  75.0  55  \n",
       "4             0.6  50.0  55  \n",
       "...           ...   ...  ..  \n",
       "1172          NaN   NaN  40  \n",
       "1173          NaN   NaN  30  \n",
       "1174          NaN   NaN  55  \n",
       "1175          NaN   NaN  25  \n",
       "1176          NaN   NaN  55  \n",
       "\n",
       "[1177 rows x 51 columns]"
      ]
     },
     "execution_count": 2,
     "metadata": {},
     "output_type": "execute_result"
    }
   ],
   "source": [
    "hM.columns = hM.columns.str.replace(' ', '_')\n",
    "hM "
   ]
  },
  {
   "cell_type": "code",
   "execution_count": 4,
   "id": "5ceaf7d9",
   "metadata": {},
   "outputs": [
    {
     "data": {
      "text/plain": [
       "group                       0\n",
       "ID                          0\n",
       "outcome                     1\n",
       "age                         0\n",
       "gendera                     0\n",
       "BMI                         0\n",
       "hypertensive                0\n",
       "atrialfibrillation          0\n",
       "CHD_with_no_MI              0\n",
       "diabetes                    0\n",
       "deficiencyanemias           0\n",
       "depression                  0\n",
       "Hyperlipemia                0\n",
       "Renal_failure               0\n",
       "COPD                        0\n",
       "heart_rate                  0\n",
       "Systolic_blood_pressure     0\n",
       "Diastolic_blood_pressure    0\n",
       "Respiratory_rate            0\n",
       "temperature                 0\n",
       "SP_O2                       0\n",
       "Urine_output                0\n",
       "hematocrit                  0\n",
       "RBC                         0\n",
       "MCH                         0\n",
       "MCHC                        0\n",
       "MCV                         0\n",
       "RDW                         0\n",
       "Leucocyte                   0\n",
       "Platelets                   0\n",
       "Neutrophils                 0\n",
       "Basophils                   0\n",
       "Lymphocyte                  0\n",
       "PT                          0\n",
       "INR                         0\n",
       "NT-proBNP                   0\n",
       "Creatine_kinase             0\n",
       "Creatinine                  0\n",
       "Urea_nitrogen               0\n",
       "glucose                     0\n",
       "Blood_potassium             0\n",
       "Blood_sodium                0\n",
       "Blood_calcium               1\n",
       "Chloride                    0\n",
       "Anion_gap                   0\n",
       "Magnesium_ion               0\n",
       "PH                          0\n",
       "Bicarbonate                 0\n",
       "Lactic_acid                 0\n",
       "PCO2                        0\n",
       "EF                          0\n",
       "dtype: int64"
      ]
     },
     "execution_count": 4,
     "metadata": {},
     "output_type": "execute_result"
    }
   ],
   "source": [
    "targetFactors = [features for features in hM.columns if len(hM[features].unique())>5]\n",
    "\n",
    "secondaryFactors = [features for features in hM.columns if features not in targetFactors]\n",
    "\n",
    "for i in targetFactors:\n",
    "    if hM[i].isnull().sum()>1:\n",
    "        hM[i] = hM[i].fillna(hM[i].mean())\n",
    "\n",
    "hM.isnull().sum()"
   ]
  },
  {
   "cell_type": "code",
   "execution_count": 5,
   "id": "19462c0e",
   "metadata": {},
   "outputs": [],
   "source": [
    "#Drop the columns ID and Group which are not factors that determine mortality \n",
    "\n",
    "hM = hM.drop(columns=['ID', 'group'], axis=1)\n",
    "\n",
    "#Drop any rows with null values to clean the data \n",
    "hM = hM.dropna(how='any', axis=0)"
   ]
  },
  {
   "cell_type": "code",
   "execution_count": 6,
   "id": "fdf05c32",
   "metadata": {},
   "outputs": [
    {
     "data": {
      "text/plain": [
       "0       0.0\n",
       "1       0.0\n",
       "2       0.0\n",
       "3       0.0\n",
       "4       0.0\n",
       "       ... \n",
       "1172    0.0\n",
       "1173    0.0\n",
       "1174    0.0\n",
       "1175    0.0\n",
       "1176    0.0\n",
       "Name: outcome, Length: 1175, dtype: float64"
      ]
     },
     "execution_count": 6,
     "metadata": {},
     "output_type": "execute_result"
    }
   ],
   "source": [
    "#The column.outcome displays whether the patient lived during \n",
    "#their hospital stay or passed away where value of 1 = death and 0 = alive \n",
    "hM.outcome"
   ]
  },
  {
   "cell_type": "code",
   "execution_count": 7,
   "id": "06b59362",
   "metadata": {},
   "outputs": [
    {
     "data": {
      "text/plain": [
       "0.0    1016\n",
       "1.0     159\n",
       "Name: outcome, dtype: int64"
      ]
     },
     "execution_count": 7,
     "metadata": {},
     "output_type": "execute_result"
    }
   ],
   "source": [
    "#Count the number of patients that survived(column.outcome=0) and died(column.outcome=1)\n",
    "hM.outcome.value_counts()"
   ]
  },
  {
   "cell_type": "code",
   "execution_count": 8,
   "id": "9b3dd8da",
   "metadata": {},
   "outputs": [],
   "source": [
    "#Machine Learning, split data into training set X and testing set y \n",
    "\n",
    "X = hM.drop('outcome', axis=1)\n",
    "#y contains the variable mortality outcome that we are trying to predict \n",
    "y = hM['outcome']\n",
    "\n",
    "from sklearn.model_selection import train_test_split\n",
    "\n",
    "X_train,X_test,y_train,y_test = train_test_split(X,y, test_size=0.2, train_size=0.8, random_state=None)"
   ]
  },
  {
   "cell_type": "code",
   "execution_count": 9,
   "id": "fcb2d72d",
   "metadata": {},
   "outputs": [
    {
     "data": {
      "text/plain": [
       "array([[-0.51212004, -1.03906016,  1.70373958, ..., -1.28333774,\n",
       "         1.95910213,  0.48834958],\n",
       "       [ 1.38542601,  0.96240818, -0.18836606, ..., -0.15140632,\n",
       "         0.6669657 ,  0.48834958],\n",
       "       [ 0.21770536,  0.96240818,  1.4023306 , ..., -0.38983977,\n",
       "         0.35049531,  0.48834958],\n",
       "       ...,\n",
       "       [ 0.36367045, -1.03906016, -0.00708774, ..., -0.00958296,\n",
       "         2.60111214,  2.05000498],\n",
       "       [-1.24194544, -1.03906016, -0.36477791, ..., -1.04038661,\n",
       "        -1.97116211, -1.07330582],\n",
       "       [ 0.94753077,  0.96240818, -0.26089357, ..., -0.62074374,\n",
       "        -1.31344442,  0.48834958]])"
      ]
     },
     "execution_count": 9,
     "metadata": {},
     "output_type": "execute_result"
    }
   ],
   "source": [
    "#Feature scaling to normalize the dataset\n",
    "#Import StandardScaler class frm the Sklearn library's preprocessing module \n",
    "from sklearn.preprocessing import StandardScaler \n",
    "\n",
    "scaler = StandardScaler()\n",
    "\n",
    "X_train = scaler.fit_transform(X_train) \n",
    "X_test = scaler.transform(X_test)\n",
    "\n",
    "X_train"
   ]
  },
  {
   "cell_type": "code",
   "execution_count": 18,
   "id": "252f63f3",
   "metadata": {},
   "outputs": [
    {
     "name": "stdout",
     "output_type": "stream",
     "text": [
      "Requirement already satisfied: xgboost in c:\\users\\ohhen\\anaconda3\\lib\\site-packages (1.7.1)\n",
      "Requirement already satisfied: numpy in c:\\users\\ohhen\\anaconda3\\lib\\site-packages (from xgboost) (1.21.5)\n",
      "Requirement already satisfied: scipy in c:\\users\\ohhen\\anaconda3\\lib\\site-packages (from xgboost) (1.7.3)\n"
     ]
    },
    {
     "data": {
      "text/plain": [
       "XGBClassifier(base_score=0.5, booster='gbtree', callbacks=None,\n",
       "              colsample_bylevel=1, colsample_bynode=1, colsample_bytree=1,\n",
       "              early_stopping_rounds=None, enable_categorical=False,\n",
       "              eval_metric=None, feature_types=None, gamma=0, gpu_id=-1,\n",
       "              grow_policy='depthwise', importance_type=None,\n",
       "              interaction_constraints='', learning_rate=0.300000012,\n",
       "              max_bin=256, max_cat_threshold=64, max_cat_to_onehot=4,\n",
       "              max_delta_step=0, max_depth=6, max_leaves=0, min_child_weight=1,\n",
       "              missing=nan, monotone_constraints='()', n_estimators=100,\n",
       "              n_jobs=0, num_parallel_tree=1, predictor='auto', random_state=0, ...)"
      ]
     },
     "execution_count": 18,
     "metadata": {},
     "output_type": "execute_result"
    }
   ],
   "source": [
    "! pip install xgboost \n",
    "from xgboost import XGBClassifier\n",
    "from sklearn import metrics \n",
    "\n",
    "final_Model = XGBClassifier()\n",
    "final_Model.fit(X_train, y_train)"
   ]
  },
  {
   "cell_type": "code",
   "execution_count": 19,
   "id": "068962ed",
   "metadata": {},
   "outputs": [
    {
     "name": "stdout",
     "output_type": "stream",
     "text": [
      "Final Model Train Score is: 1.0\n",
      "Final Model Test Score is: 0.8382978723404255\n"
     ]
    }
   ],
   "source": [
    "print('Final Model Train Score is:', final_Model.score(X_train, y_train))\n",
    "print('Final Model Test Score is:', final_Model.score(X_test, y_test))"
   ]
  },
  {
   "cell_type": "code",
   "execution_count": 21,
   "id": "fc9a588e",
   "metadata": {},
   "outputs": [
    {
     "data": {
      "text/plain": [
       "array([0, 0, 0, 0, 0, 0, 0, 0, 0, 0, 0, 0, 0, 0, 0, 0, 0, 0, 0, 0, 0, 0,\n",
       "       0, 0, 0, 0, 0, 0, 0, 0, 0, 0, 0, 0, 0, 0, 0, 0, 0, 0, 0, 0, 0, 0,\n",
       "       0, 0, 0, 0, 0, 0, 0, 0, 0, 0, 0, 0, 0, 0, 0, 0, 0, 0, 0, 0, 0, 0,\n",
       "       0, 0, 0, 0, 0, 0, 0, 0, 0, 0, 0, 0, 1, 0, 0, 0, 0, 0, 0, 0, 0, 0,\n",
       "       0, 0, 0, 0, 0, 0, 0, 0, 0, 0, 0, 0, 0, 0, 0, 0, 0, 0, 0, 0, 0, 0,\n",
       "       0, 0, 0, 0, 1, 0, 0, 0, 0, 0, 0, 0, 0, 0, 0, 1, 0, 0, 0, 0, 0, 0,\n",
       "       0, 0, 0, 0, 0, 0, 0, 0, 0, 0, 0, 0, 0, 0, 0, 0, 0, 0, 0, 0, 0, 0,\n",
       "       0, 0, 0, 0, 0, 0, 0, 0, 0, 0, 0, 1, 0, 0, 0, 0, 0, 0, 0, 0, 0, 0,\n",
       "       0, 0, 0, 0, 0, 0, 1, 0, 0, 0, 0, 0, 0, 0, 0, 0, 0, 0, 0, 0, 0, 0,\n",
       "       0, 0, 0, 1, 0, 0, 0, 0, 0, 1, 0, 0, 0, 0, 0, 0, 0, 0, 0, 0, 0, 0,\n",
       "       0, 0, 0, 0, 0, 0, 0, 0, 0, 0, 0, 0, 0, 0, 1])"
      ]
     },
     "execution_count": 21,
     "metadata": {},
     "output_type": "execute_result"
    }
   ],
   "source": [
    "#Prediction Model \n",
    "finalPrediction = final_Model.predict(X_test)\n",
    "finalPrediction"
   ]
  },
  {
   "cell_type": "code",
   "execution_count": null,
   "id": "f049c5af",
   "metadata": {},
   "outputs": [],
   "source": []
  },
  {
   "cell_type": "code",
   "execution_count": 36,
   "id": "490fd4ac",
   "metadata": {},
   "outputs": [
    {
     "data": {
      "text/plain": [
       "array([[193,   4],\n",
       "       [ 34,   4]], dtype=int64)"
      ]
     },
     "execution_count": 36,
     "metadata": {},
     "output_type": "execute_result"
    }
   ],
   "source": [
    "from sklearn.metrics import confusion_matrix\n",
    "\n",
    "cMatrix=confusion_matrix(y_test,finalPrediction)\n",
    "cMatrix\n",
    "\n"
   ]
  },
  {
   "cell_type": "code",
   "execution_count": 34,
   "id": "d8758a7a",
   "metadata": {},
   "outputs": [
    {
     "data": {
      "image/png": "[encoded data removed]",
      "text/plain": [
       "<Figure size 432x288 with 2 Axes>"
      ]
     },
     "metadata": {
      "needs_background": "light"
     },
     "output_type": "display_data"
    }
   ],
   "source": [
    "from sklearn.metrics import plot_confusion_matrix\n",
    "#Confusion Matrix Visual \n",
    "from sklearn.metrics import confusion_matrix\n",
    "cMatrix2 = confusion_matrix(y_test, finalPrediction)\n",
    "\n",
    "from sklearn.metrics import confusion_matrix, ConfusionMatrixDisplay\n",
    "disp = ConfusionMatrixDisplay(confusion_matrix=cMatrix2)\n",
    "disp.plot()\n",
    "plot.show()"
   ]
  },
  {
   "cell_type": "code",
   "execution_count": 35,
   "id": "a3fe7df7",
   "metadata": {},
   "outputs": [
    {
     "name": "stdout",
     "output_type": "stream",
     "text": [
      "The mean_absolute_error 0.16170212765957448\n",
      "The mean_Squre_error 0.16170212765957448\n",
      "The Medain_absolute_error 0.0\n"
     ]
    }
   ],
   "source": [
    "# mean_absolute_error\n",
    "from sklearn.metrics import mean_absolute_error\n",
    "meanabs =mean_absolute_error(y_test, finalPrediction)\n",
    "# mean_squared_error\n",
    "from sklearn.metrics import mean_squared_error\n",
    "meansq =mean_squared_error(y_test, finalPrediction)\n",
    "# median_absolute_error\n",
    "from sklearn.metrics import median_absolute_error\n",
    "medianab =median_absolute_error(y_test, finalPrediction)\n",
    "\n",
    "print(\"The mean_absolute_error\",meanabs)\n",
    "print(\"The mean_Squre_error\",meansq)\n",
    "print(\"The Medain_absolute_error\",medianab)"
   ]
  },
  {
   "cell_type": "code",
   "execution_count": 48,
   "id": "d04c12aa",
   "metadata": {},
   "outputs": [
    {
     "data": {
      "image/png": "[encoded data removed]",
      "text/plain": [
       "<Figure size 576x432 with 1 Axes>"
      ]
     },
     "metadata": {
      "needs_background": "light"
     },
     "output_type": "display_data"
    }
   ],
   "source": [
    "#ROC Curve for model \n",
    "from sklearn.metrics import roc_curve, auc #for model evaluation\n",
    "from matplotlib import pyplot\n",
    "fig, (ax2) = plot.subplots(figsize = (8,6))\n",
    "\n",
    "#roc-curve\n",
    "fpr, tpr, thresholds_roc = roc_curve(y_test,finalPrediction)\n",
    "roc_auc = auc(fpr,tpr)\n",
    "ax2.plot(fpr,tpr, label = \" AUROC = {:0.2f}\".format(roc_auc))\n",
    "ax2.plot([0,1], [0,1], 'r', linestyle = \"--\", lw = 2)\n",
    "ax2.set_xlabel(\"False Positive Rate\", fontsize = 14)\n",
    "ax2.set_ylabel(\"True Positive Rate\", fontsize = 14)\n",
    "ax2.set_title(\"ROC Curve\", fontsize = 18)\n",
    "ax2.legend(loc = 'best')\n",
    "plot.title('ROC curve for XGBClassifier ')\n",
    "plot.xlabel('False Positive Rate (1 - Specificity)')\n",
    "plot.ylabel('True Positive Rate (Sensitivity)')\n",
    "\n",
    "#find default threshold\n",
    "close_default = numpy.argmin(numpy.abs(thresholds_roc - 0.5))\n",
    "ax2.plot(fpr[close_default], tpr[close_default], 'o', markersize = 8)\n",
    "plot.tight_layout()"
   ]
  },
  {
   "cell_type": "code",
   "execution_count": null,
   "id": "88f0d416",
   "metadata": {},
   "outputs": [],
   "source": []
  },
  {
   "cell_type": "code",
   "execution_count": null,
   "id": "6833474a",
   "metadata": {},
   "outputs": [],
   "source": []
  }
 ],
 "metadata": {
  "kernelspec": {
   "display_name": "Python 3 (ipykernel)",
   "language": "python",
   "name": "python3"
  },
  "language_info": {
   "codemirror_mode": {
    "name": "ipython",
    "version": 3
   },
   "file_extension": ".py",
   "mimetype": "text/x-python",
   "name": "python",
   "nbconvert_exporter": "python",
   "pygments_lexer": "ipython3",
   "version": "3.9.12"
  }
 },
 "nbformat": 4,
 "nbformat_minor": 5
}
